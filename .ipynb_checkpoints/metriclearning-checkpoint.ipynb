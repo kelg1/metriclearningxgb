{
 "cells": [
  {
   "cell_type": "code",
   "execution_count": 20,
   "metadata": {},
   "outputs": [],
   "source": [
    "import sys\n",
    "sys.path.append('C:\\\\Users\\\\tibh\\\\Desktop\\\\Stage\\\\code')"
   ]
  },
  {
   "cell_type": "code",
   "execution_count": 22,
   "metadata": {},
   "outputs": [],
   "source": [
    "import metriclearningxgb"
   ]
  },
  {
   "cell_type": "code",
   "execution_count": 24,
   "metadata": {},
   "outputs": [],
   "source": [
    "from sklearn.ensemble import GradientBoostingRegressor"
   ]
  },
  {
   "cell_type": "code",
   "execution_count": 25,
   "metadata": {},
   "outputs": [
    {
     "ename": "NameError",
     "evalue": "name 'max_bins' is not defined",
     "output_type": "error",
     "traceback": [
      "\u001b[1;31m---------------------------------------------------------------------------\u001b[0m",
      "\u001b[1;31mNameError\u001b[0m                                 Traceback (most recent call last)",
      "\u001b[1;32m<ipython-input-25-03ef41c44b82>\u001b[0m in \u001b[0;36m<module>\u001b[1;34m\u001b[0m\n\u001b[0;32m      1\u001b[0m gb = GradientBoostingRegressor(learning_rate=1, max_iter=10,\n\u001b[0;32m      2\u001b[0m                  \u001b[0mmax_leaf_nodes\u001b[0m\u001b[1;33m=\u001b[0m\u001b[1;36m8\u001b[0m\u001b[1;33m,\u001b[0m \u001b[0mmax_depth\u001b[0m\u001b[1;33m=\u001b[0m\u001b[1;36m2\u001b[0m\u001b[1;33m,\u001b[0m \u001b[0mmin_samples_leaf\u001b[0m\u001b[1;33m=\u001b[0m\u001b[1;36m20\u001b[0m\u001b[1;33m,\u001b[0m\u001b[1;33m\u001b[0m\u001b[1;33m\u001b[0m\u001b[0m\n\u001b[1;32m----> 3\u001b[1;33m                  \u001b[0ml2_regularization\u001b[0m\u001b[1;33m=\u001b[0m\u001b[1;36m0\u001b[0m\u001b[1;33m,\u001b[0m \u001b[0mmax_bins\u001b[0m\u001b[1;33m=\u001b[0m\u001b[0mmax_bins\u001b[0m\u001b[1;33m,\u001b[0m \u001b[0mmax_no_improvement\u001b[0m\u001b[1;33m=\u001b[0m\u001b[1;36m50\u001b[0m\u001b[1;33m,\u001b[0m\u001b[1;33m\u001b[0m\u001b[1;33m\u001b[0m\u001b[0m\n\u001b[0m\u001b[0;32m      4\u001b[0m                  \u001b[0mvalidation_split\u001b[0m\u001b[1;33m=\u001b[0m\u001b[1;36m.1\u001b[0m\u001b[1;33m,\u001b[0m \u001b[0mscoring\u001b[0m\u001b[1;33m=\u001b[0m\u001b[1;34m'neg_mean_squared_error'\u001b[0m\u001b[1;33m,\u001b[0m\u001b[1;33m\u001b[0m\u001b[1;33m\u001b[0m\u001b[0m\n\u001b[0;32m      5\u001b[0m                  tol=1e-4, verbose=1, random_state=None)\n",
      "\u001b[1;31mNameError\u001b[0m: name 'max_bins' is not defined"
     ]
    }
   ],
   "source": [
    "gb = GradientBoostingRegressor(learning_rate=1, max_iter=10,\n",
    "                 max_leaf_nodes=8, max_depth=2, min_samples_leaf=20,\n",
    "                 l2_regularization=0, max_bins=max_bins, max_no_improvement=50,\n",
    "                 validation_split=.1, scoring='neg_mean_squared_error',\n",
    "                 tol=1e-4, verbose=1, random_state=None)"
   ]
  },
  {
   "cell_type": "code",
   "execution_count": 29,
   "metadata": {},
   "outputs": [],
   "source": [
    "from sklearn.datasets import make_regression\n",
    "from matplotlib import pyplot\n",
    "# generate regression dataset\n",
    "X, y = make_regression(n_samples=10000, n_features=10, noise=0.1)\n",
    "# plot regression dataset\n",
    "#pyplot.scatter(X,y)\n",
    "#pyplot.show()"
   ]
  },
  {
   "cell_type": "code",
   "execution_count": 30,
   "metadata": {},
   "outputs": [
    {
     "data": {
      "text/plain": [
       "array([[ 0.4549384 ,  1.25131099,  0.27020449, ...,  0.77770948,\n",
       "        -0.70850138,  0.66889368],\n",
       "       [ 0.05450429,  0.13165809, -0.17504352, ..., -0.14678027,\n",
       "         0.46006507, -0.03251935],\n",
       "       [-0.64653622, -0.62234163, -0.75732412, ..., -1.65889099,\n",
       "         0.81934667,  1.10294255],\n",
       "       ...,\n",
       "       [-0.87654776, -0.21397049, -1.53244476, ...,  0.04738804,\n",
       "         1.97121306, -1.10499155],\n",
       "       [-1.3949399 ,  1.12950309,  1.93283637, ..., -1.73521775,\n",
       "        -0.14846198, -0.35115738],\n",
       "       [ 0.03987401,  0.34812204,  1.13849413, ..., -0.25767796,\n",
       "        -0.05583211,  0.75616373]])"
      ]
     },
     "execution_count": 30,
     "metadata": {},
     "output_type": "execute_result"
    }
   ],
   "source": [
    "X"
   ]
  },
  {
   "cell_type": "code",
   "execution_count": 31,
   "metadata": {},
   "outputs": [
    {
     "data": {
      "text/plain": [
       "array([  4.07219282, -37.94807992,   7.2139333 , ...,  60.35936035,\n",
       "         1.83242626, -53.36627718])"
      ]
     },
     "execution_count": 31,
     "metadata": {},
     "output_type": "execute_result"
    }
   ],
   "source": [
    "y"
   ]
  },
  {
   "cell_type": "code",
   "execution_count": null,
   "metadata": {},
   "outputs": [],
   "source": []
  }
 ],
 "metadata": {
  "kernelspec": {
   "display_name": "Python 3",
   "language": "python",
   "name": "python3"
  },
  "language_info": {
   "codemirror_mode": {
    "name": "ipython",
    "version": 3
   },
   "file_extension": ".py",
   "mimetype": "text/x-python",
   "name": "python",
   "nbconvert_exporter": "python",
   "pygments_lexer": "ipython3",
   "version": "3.7.1"
  }
 },
 "nbformat": 4,
 "nbformat_minor": 2
}
